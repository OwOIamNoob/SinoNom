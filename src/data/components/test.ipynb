{
 "cells": [
  {
   "cell_type": "code",
   "execution_count": 1,
   "metadata": {},
   "outputs": [
    {
     "data": {
      "text/plain": [
       "'/work/hpc/potato/SinoNom/src/data/components'"
      ]
     },
     "execution_count": 1,
     "metadata": {},
     "output_type": "execute_result"
    }
   ],
   "source": [
    "pwd "
   ]
  },
  {
   "cell_type": "code",
   "execution_count": 1,
   "metadata": {},
   "outputs": [],
   "source": [
    "import json \n",
    "import numpy as np\n",
    "from analyzer import Analyzer"
   ]
  },
  {
   "cell_type": "code",
   "execution_count": 2,
   "metadata": {},
   "outputs": [],
   "source": [
    "import matplotlib.pyplot as plt"
   ]
  },
  {
   "cell_type": "markdown",
   "metadata": {},
   "source": [
    "# Test"
   ]
  },
  {
   "cell_type": "code",
   "execution_count": 12,
   "metadata": {},
   "outputs": [],
   "source": [
    "dataset = dict()\n",
    "with open(\"/data/hpc/potato/sinonom/data/wb_recognition_dataset/manifest.json\", \"r\") as file:\n",
    "    dataset = json.load(file)"
   ]
  },
  {
   "cell_type": "code",
   "execution_count": 30,
   "metadata": {},
   "outputs": [],
   "source": [
    "cached_dataset = dict()\n",
    "with open(\"/data/hpc/potato/sinonom/data/wb_recognition_dataset/manifest_split.json\", \"r\") as file:\n",
    "    cached_dataset = json.load(file)"
   ]
  },
  {
   "cell_type": "code",
   "execution_count": 15,
   "metadata": {},
   "outputs": [],
   "source": [
    "train_dataset = dataset['train']\n",
    "train_cached_dataset = cached_dataset['train']"
   ]
  },
  {
   "cell_type": "code",
   "execution_count": 16,
   "metadata": {},
   "outputs": [],
   "source": [
    "keys = list(train_dataset.keys())"
   ]
  },
  {
   "cell_type": "code",
   "execution_count": 38,
   "metadata": {},
   "outputs": [],
   "source": [
    "count = [len(train_dataset[key]) for key in keys]\n",
    "cached_count = [len(train_cached_dataset[key]) for key in keys]"
   ]
  },
  {
   "cell_type": "code",
   "execution_count": 19,
   "metadata": {},
   "outputs": [],
   "source": [
    "x = range(0, len(count))"
   ]
  },
  {
   "cell_type": "code",
   "execution_count": 20,
   "metadata": {},
   "outputs": [
    {
     "data": {
      "image/png": "[encoded data removed]",
      "text/plain": [
       "<Figure size 640x480 with 1 Axes>"
      ]
     },
     "metadata": {},
     "output_type": "display_data"
    }
   ],
   "source": [
    "plt.plot(x, count)\n",
    "plt.plot(x, cached_count)\n",
    "plt.show()"
   ]
  },
  {
   "cell_type": "markdown",
   "metadata": {},
   "source": [
    "Seems like it really just mildly downsample, really gud"
   ]
  },
  {
   "cell_type": "code",
   "execution_count": 32,
   "metadata": {},
   "outputs": [],
   "source": [
    "val_dataset = dataset['val']\n",
    "cached_dataset['val'].update(cached_dataset['cache'])\n",
    "val_cached_dataset = cached_dataset['val']\n"
   ]
  },
  {
   "cell_type": "code",
   "execution_count": 33,
   "metadata": {},
   "outputs": [
    {
     "name": "stdout",
     "output_type": "stream",
     "text": [
      "\u001b[0;31mType:\u001b[0m        dict\n",
      "\u001b[0;31mString form:\u001b[0m {'1677': ['381.jpg', '388.jpg', '373.jpg', '392.jpg', '390.jpg', '387.jpg', '389.jpg', '383.jpg', <...> , '467': ['copy/467_19_467.png'], '647': ['copy/647_26_647.png'], '954': ['copy/954_19_954.png']}\n",
      "\u001b[0;31mLength:\u001b[0m      2130\n",
      "\u001b[0;31mDocstring:\u001b[0m  \n",
      "dict() -> new empty dictionary\n",
      "dict(mapping) -> new dictionary initialized from a mapping object's\n",
      "    (key, value) pairs\n",
      "dict(iterable) -> new dictionary initialized as if via:\n",
      "    d = {}\n",
      "    for k, v in iterable:\n",
      "        d[k] = v\n",
      "dict(**kwargs) -> new dictionary initialized with the name=value pairs\n",
      "    in the keyword argument list.  For example:  dict(one=1, two=2)"
     ]
    }
   ],
   "source": [
    "val_cached_dataset?"
   ]
  },
  {
   "cell_type": "markdown",
   "metadata": {},
   "source": [
    "2130 labels shows that it covered the dataset"
   ]
  },
  {
   "cell_type": "code",
   "execution_count": 37,
   "metadata": {},
   "outputs": [],
   "source": [
    "val_count = [len(val_dataset[key]) if key in val_dataset.keys() else 0 for key in keys]\n",
    "val_cached_count = [len(val_cached_dataset[key]) for key in keys]"
   ]
  },
  {
   "cell_type": "code",
   "execution_count": 39,
   "metadata": {},
   "outputs": [
    {
     "name": "stdout",
     "output_type": "stream",
     "text": [
      "5\n"
     ]
    }
   ],
   "source": [
    "diff = np.sum(cached_count) + np.sum(val_cached_count) - np.sum(val_count) - np.sum(count)\n",
    "print(diff)"
   ]
  },
  {
   "cell_type": "markdown",
   "metadata": {},
   "source": [
    "Seems like it does it job !!! New manifest approved :D"
   ]
  },
  {
   "cell_type": "code",
   "execution_count": null,
   "metadata": {},
   "outputs": [],
   "source": [
    "count = [len(train_dataset[key]) for key in keys]\n",
    "cached_count = [len(train_cached_dataset[key]) for key in keys]"
   ]
  },
  {
   "cell_type": "code",
   "execution_count": 13,
   "metadata": {},
   "outputs": [],
   "source": [
    "values, count = np.unique(hard_sample_count, return_counts=True)"
   ]
  },
  {
   "cell_type": "code",
   "execution_count": null,
   "metadata": {},
   "outputs": [],
   "source": [
    "pri"
   ]
  },
  {
   "cell_type": "code",
   "execution_count": 14,
   "metadata": {},
   "outputs": [
    {
     "name": "stdout",
     "output_type": "stream",
     "text": [
      "(0, 463)\n",
      "(1, 634)\n",
      "(2, 247)\n",
      "(3, 138)\n",
      "(4, 123)\n",
      "(5, 71)\n",
      "(6, 53)\n",
      "(7, 44)\n",
      "(8, 39)\n",
      "(9, 34)\n",
      "(10, 33)\n",
      "(11, 24)\n",
      "(12, 18)\n",
      "(13, 8)\n",
      "(14, 22)\n",
      "(15, 13)\n",
      "(16, 11)\n",
      "(17, 12)\n",
      "(18, 12)\n",
      "(19, 6)\n",
      "(20, 9)\n",
      "(21, 5)\n",
      "(22, 4)\n",
      "(23, 7)\n",
      "(24, 4)\n",
      "(25, 5)\n",
      "(26, 4)\n",
      "(27, 2)\n",
      "(28, 6)\n",
      "(29, 6)\n",
      "(30, 1)\n",
      "(31, 3)\n",
      "(32, 4)\n",
      "(33, 3)\n",
      "(34, 3)\n",
      "(35, 2)\n",
      "(36, 3)\n",
      "(37, 2)\n",
      "(38, 2)\n",
      "(39, 3)\n",
      "(41, 1)\n",
      "(42, 3)\n",
      "(43, 4)\n",
      "(44, 1)\n",
      "(46, 1)\n",
      "(47, 1)\n",
      "(48, 2)\n",
      "(49, 2)\n",
      "(52, 2)\n",
      "(53, 2)\n",
      "(54, 1)\n",
      "(56, 1)\n",
      "(58, 1)\n",
      "(60, 1)\n",
      "(61, 2)\n",
      "(62, 1)\n",
      "(64, 1)\n",
      "(65, 1)\n",
      "(67, 1)\n",
      "(68, 1)\n",
      "(70, 3)\n",
      "(74, 1)\n",
      "(75, 2)\n",
      "(78, 1)\n",
      "(79, 1)\n",
      "(90, 1)\n",
      "(94, 1)\n",
      "(100, 1)\n",
      "(101, 1)\n",
      "(104, 1)\n",
      "(114, 1)\n",
      "(172, 1)\n",
      "(192, 1)\n",
      "(255, 1)\n"
     ]
    }
   ],
   "source": [
    "for vc in zip(values, count):\n",
    "    print(vc)"
   ]
  },
  {
   "cell_type": "code",
   "execution_count": null,
   "metadata": {},
   "outputs": [],
   "source": []
  },
  {
   "cell_type": "markdown",
   "metadata": {},
   "source": [
    "# Analyzer"
   ]
  },
  {
   "cell_type": "code",
   "execution_count": 3,
   "metadata": {},
   "outputs": [],
   "source": [
    "analyzer = Analyzer(\"/data/hpc/potato/sinonom/data/wb_recognition_dataset/manifest.json\", data_dir='/data/hpc/potato/sinonom/data/wb_recognition_dataset', cache_dir='cache')"
   ]
  },
  {
   "cell_type": "code",
   "execution_count": 4,
   "metadata": {},
   "outputs": [],
   "source": [
    "analyzer.prepare()"
   ]
  },
  {
   "cell_type": "code",
   "execution_count": 5,
   "metadata": {},
   "outputs": [
    {
     "name": "stdout",
     "output_type": "stream",
     "text": [
      "Mean: 2.339495798319328\n",
      "Valid mean samples 2.339495798319328\n",
      "Valid standard deviation 2.816942095782366\n",
      "Missing labels 4605\n"
     ]
    }
   ],
   "source": [
    "v_dist, v_upsample, v_missing = analyzer.valid_fill_label(0.9)"
   ]
  },
  {
   "cell_type": "code",
   "execution_count": 7,
   "metadata": {},
   "outputs": [
    {
     "name": "stdout",
     "output_type": "stream",
     "text": [
      "[32  4  1 ...  0  0  0]\n"
     ]
    }
   ],
   "source": [
    "print(v_dist)"
   ]
  },
  {
   "cell_type": "code",
   "execution_count": 6,
   "metadata": {},
   "outputs": [],
   "source": [
    "values = list(v_missing.values())\n",
    "x = range(0, len(v_missing))"
   ]
  },
  {
   "cell_type": "code",
   "execution_count": 7,
   "metadata": {},
   "outputs": [
    {
     "data": {
      "image/png": "[encoded data removed]",
      "text/plain": [
       "<Figure size 640x480 with 1 Axes>"
      ]
     },
     "metadata": {},
     "output_type": "display_data"
    }
   ],
   "source": [
    "plt.plot(x, values)\n",
    "plt.plot(x, list(analyzer.train_hard_dist.values()))\n",
    "plt.plot(x, list(analyzer.train_full_dist.values()))\n",
    "plt.show()"
   ]
  },
  {
   "cell_type": "markdown",
   "metadata": {},
   "source": [
    "How the fuck can validation mean can be its own freaking adoijdaiupn standard deviation ????"
   ]
  },
  {
   "cell_type": "code",
   "execution_count": 54,
   "metadata": {},
   "outputs": [],
   "source": [
    "req, h_req, n_req = analyzer.query_train(v_missing, maximum_exploit=0.2)"
   ]
  },
  {
   "cell_type": "code",
   "execution_count": 55,
   "metadata": {},
   "outputs": [],
   "source": [
    "v_d = np.array(list(analyzer.val_dist.values()))\n",
    "hr_d = np.array(list(h_req.values()))\n",
    "nr_d = np.array(list(n_req.values()))\n",
    "r_d = np.array(list(req.values()))\n",
    "x = range(v_d.shape[0])\n",
    "sample = v_d + hr_d + nr_d \n"
   ]
  },
  {
   "cell_type": "code",
   "execution_count": 56,
   "metadata": {},
   "outputs": [
    {
     "data": {
      "text/plain": [
       "(array([2111, 2112, 2115, 2117, 2118, 2120, 2121, 2123, 2124, 2125, 2126,\n",
       "        2127, 2128, 2129]),)"
      ]
     },
     "execution_count": 56,
     "metadata": {},
     "output_type": "execute_result"
    }
   ],
   "source": [
    "np.where(sample == 0)"
   ]
  },
  {
   "cell_type": "code",
   "execution_count": 57,
   "metadata": {},
   "outputs": [
    {
     "data": {
      "image/png": "[encoded data removed]",
      "text/plain": [
       "<Figure size 640x480 with 1 Axes>"
      ]
     },
     "metadata": {},
     "output_type": "display_data"
    }
   ],
   "source": [
    "\n",
    "plt.stackplot(x, v_d, hr_d, nr_d,\n",
    "                labels=['valid', 'hard req', 'normal req'])\n",
    "plt.legend()\n",
    "plt.show()"
   ]
  },
  {
   "cell_type": "markdown",
   "metadata": {},
   "source": [
    "Solved :D Now to caching validation data to folder"
   ]
  },
  {
   "cell_type": "code",
   "execution_count": 11,
   "metadata": {},
   "outputs": [
    {
     "name": "stdout",
     "output_type": "stream",
     "text": [
      "Deleted all contents of the folder: /data/hpc/potato/sinonom/data/wb_recognition_dataset/cache\n"
     ]
    }
   ],
   "source": [
    "analyzer.extract(req, h_req, n_req, maximum_exploit=0.4, export=\"/data/hpc/potato/sinonom/data/wb_recognition_dataset/manifest_split.json\", refresh=True)"
   ]
  },
  {
   "cell_type": "code",
   "execution_count": null,
   "metadata": {},
   "outputs": [],
   "source": []
  }
 ],
 "metadata": {
  "kernelspec": {
   "display_name": "filter",
   "language": "python",
   "name": "python3"
  },
  "language_info": {
   "codemirror_mode": {
    "name": "ipython",
    "version": 3
   },
   "file_extension": ".py",
   "mimetype": "text/x-python",
   "name": "python",
   "nbconvert_exporter": "python",
   "pygments_lexer": "ipython3",
   "version": "3.8.18"
  },
  "orig_nbformat": 4
 },
 "nbformat": 4,
 "nbformat_minor": 2
}
